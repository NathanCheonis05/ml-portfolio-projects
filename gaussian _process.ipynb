{
 "cells": [
  {
   "cell_type": "markdown",
   "metadata": {},
   "source": [
    "# Intelligent Civilizations Other Than Our Own in Our Universe.\n",
    "\n",
    "I will be using the gaussian process algorithm to see if aliens exist in our universe. I am using this algorithm because it is great for making predictions when there is uncertainty. They can be employed to model various factors like the distribution of habitable planets, the likelihood of life developing, etc."
   ]
  }
 ],
 "metadata": {
  "language_info": {
   "name": "python"
  }
 },
 "nbformat": 4,
 "nbformat_minor": 2
}
